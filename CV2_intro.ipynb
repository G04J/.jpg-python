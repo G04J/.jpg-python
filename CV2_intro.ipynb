{
 "cells": [
  {
   "cell_type": "markdown",
   "id": "21486765-d195-4966-819b-c9735c51134a",
   "metadata": {
    "jp-MarkdownHeadingCollapsed": true,
    "tags": []
   },
   "source": [
    "# Types of Image\n",
    "1. HD Image - (y dim)1366x768 (x dim) (pixel  values)\n",
    "2. full HD Image - 1920 (y dim) x 1000(x dim) pixels\n",
    "3. ultra hd image - 3840 (y dim)x 2160 (x dim) pixels"
   ]
  },
  {
   "cell_type": "markdown",
   "id": "527c12f1-acaa-4c57-940d-a5db2e73a012",
   "metadata": {},
   "source": [
    "# Installing library"
   ]
  },
  {
   "cell_type": "code",
   "execution_count": 6,
   "id": "175dd898-13af-4398-9c6d-2d6d0fcc85fd",
   "metadata": {},
   "outputs": [
    {
     "name": "stdout",
     "output_type": "stream",
     "text": [
      "Requirement already satisfied: opencv-contrib-python in c:\\users\\gul\\anaconda3\\lib\\site-packages (4.6.0.66)\n",
      "Requirement already satisfied: numpy>=1.19.3 in c:\\users\\gul\\anaconda3\\lib\\site-packages (from opencv-contrib-python) (1.21.5)\n",
      "Note: you may need to restart the kernel to use updated packages.\n"
     ]
    }
   ],
   "source": [
    "pip install opencv-contrib-python"
   ]
  },
  {
   "cell_type": "code",
   "execution_count": 1,
   "id": "a363946d-789d-439b-836a-85634f90f893",
   "metadata": {},
   "outputs": [],
   "source": [
    "import cv2\n",
    "import numpy as np"
   ]
  },
  {
   "cell_type": "code",
   "execution_count": 2,
   "id": "4789db80-40d3-47b0-a160-960dd728156e",
   "metadata": {},
   "outputs": [],
   "source": [
    "img = cv2.imread('photo/images (1).jpg')  #folder named photo where images (1).jpg is stored."
   ]
  },
  {
   "cell_type": "code",
   "execution_count": 9,
   "id": "ba7148a4-a4d8-4f5e-8dd6-8fab2553e9c4",
   "metadata": {},
   "outputs": [
    {
     "data": {
      "text/plain": [
       "numpy.ndarray"
      ]
     },
     "execution_count": 9,
     "metadata": {},
     "output_type": "execute_result"
    }
   ],
   "source": [
    "type(img)"
   ]
  },
  {
   "cell_type": "code",
   "execution_count": 10,
   "id": "48d8bfac-207e-4732-8a33-976ce9dc6d29",
   "metadata": {},
   "outputs": [
    {
     "data": {
      "text/plain": [
       "array([[[162, 114,  78],\n",
       "        [162, 114,  78],\n",
       "        [161, 113,  77],\n",
       "        ...,\n",
       "        [146,  98,  62],\n",
       "        [146,  98,  62],\n",
       "        [147,  99,  63]],\n",
       "\n",
       "       [[162, 114,  78],\n",
       "        [162, 114,  78],\n",
       "        [161, 113,  77],\n",
       "        ...,\n",
       "        [147,  99,  63],\n",
       "        [147,  99,  63],\n",
       "        [147,  99,  63]],\n",
       "\n",
       "       [[162, 114,  78],\n",
       "        [162, 114,  78],\n",
       "        [162, 114,  78],\n",
       "        ...,\n",
       "        [148, 100,  64],\n",
       "        [148, 100,  64],\n",
       "        [148, 100,  64]],\n",
       "\n",
       "       ...,\n",
       "\n",
       "       [[ 63, 115, 161],\n",
       "        [ 71, 126, 169],\n",
       "        [ 82, 140, 182],\n",
       "        ...,\n",
       "        [ 80, 152, 200],\n",
       "        [ 86, 159, 209],\n",
       "        [ 98, 174, 223]],\n",
       "\n",
       "       [[117, 169, 215],\n",
       "        [116, 171, 216],\n",
       "        [ 82, 139, 184],\n",
       "        ...,\n",
       "        [ 26,  94, 147],\n",
       "        [ 44, 114, 168],\n",
       "        [ 59, 129, 183]],\n",
       "\n",
       "       [[ 93, 148, 193],\n",
       "        [ 53, 110, 155],\n",
       "        [116, 175, 220],\n",
       "        ...,\n",
       "        [ 58, 121, 179],\n",
       "        [ 61, 125, 183],\n",
       "        [ 63, 127, 185]]], dtype=uint8)"
      ]
     },
     "execution_count": 10,
     "metadata": {},
     "output_type": "execute_result"
    }
   ],
   "source": [
    "img"
   ]
  },
  {
   "cell_type": "code",
   "execution_count": 11,
   "id": "c9ad6695-352d-440e-956d-e08d6e9beb10",
   "metadata": {},
   "outputs": [
    {
     "data": {
      "text/plain": [
       "(183, 276, 3)"
      ]
     },
     "execution_count": 11,
     "metadata": {},
     "output_type": "execute_result"
    }
   ],
   "source": [
    "img.shape"
   ]
  },
  {
   "cell_type": "code",
   "execution_count": 12,
   "id": "b3ee6170-1062-4789-b6d7-e9a9f89488a9",
   "metadata": {},
   "outputs": [
    {
     "data": {
      "text/plain": [
       "3"
      ]
     },
     "execution_count": 12,
     "metadata": {},
     "output_type": "execute_result"
    }
   ],
   "source": [
    "img.ndim"
   ]
  },
  {
   "cell_type": "code",
   "execution_count": 13,
   "id": "bb7e0c97-804e-48b6-89b9-548e82a85b1c",
   "metadata": {},
   "outputs": [
    {
     "data": {
      "text/plain": [
       "-1"
      ]
     },
     "execution_count": 13,
     "metadata": {},
     "output_type": "execute_result"
    }
   ],
   "source": [
    "cv2.imshow('images (1)',img)\n",
    "cv2.waitKey(0)"
   ]
  },
  {
   "cell_type": "markdown",
   "id": "0aca14f2-c168-4fe0-95ff-27347ee30f82",
   "metadata": {},
   "source": [
    "# color image"
   ]
  },
  {
   "cell_type": "code",
   "execution_count": 15,
   "id": "e0f879b2-e10b-4a16-925e-5526172c2f3e",
   "metadata": {},
   "outputs": [
    {
     "data": {
      "text/plain": [
       "-1"
      ]
     },
     "execution_count": 15,
     "metadata": {},
     "output_type": "execute_result"
    }
   ],
   "source": [
    "img = cv2.imread('photo/images (2).jpg')\n",
    "img_gray = cv2.cvtColor(img, cv2.COLOR_BGR2GRAY)\n",
    "cv2.imshow('images (2)',img_gray)\n",
    "cv2.waitKey(0)"
   ]
  },
  {
   "cell_type": "code",
   "execution_count": 16,
   "id": "b603e75e-11da-46b9-a42c-f8ada3374945",
   "metadata": {},
   "outputs": [
    {
     "data": {
      "text/plain": [
       "(177, 284)"
      ]
     },
     "execution_count": 16,
     "metadata": {},
     "output_type": "execute_result"
    }
   ],
   "source": [
    "img_gray.shape"
   ]
  },
  {
   "cell_type": "code",
   "execution_count": 17,
   "id": "2508906b-9dcf-4d8a-859d-967b631c3053",
   "metadata": {},
   "outputs": [
    {
     "data": {
      "text/plain": [
       "-1"
      ]
     },
     "execution_count": 17,
     "metadata": {},
     "output_type": "execute_result"
    }
   ],
   "source": [
    "img = cv2.imread('photo/images (2).jpg')\n",
    "#img_blue = img[:,:,0] #BGR\n",
    "# img_green = img[:,:,1]\n",
    "# img_red = img[:,:,2]\n",
    "img[:,:,0] = 0\n",
    "# Horizontal show\n",
    "# img_new = np.hstack((img_blue,img_green,img_red))\n",
    "# img_new = np((img))\n",
    "cv2.imshow('Window',img)\n",
    "cv2.waitKey(0)"
   ]
  },
  {
   "cell_type": "markdown",
   "id": "a9a20b59-2b9f-4372-8d78-4f05607966ab",
   "metadata": {},
   "source": [
    "# Image Resize"
   ]
  },
  {
   "cell_type": "code",
   "execution_count": 22,
   "id": "e1eb1bec-3a70-48b2-9bc1-23b084bad2d7",
   "metadata": {},
   "outputs": [
    {
     "data": {
      "text/plain": [
       "-1"
      ]
     },
     "execution_count": 22,
     "metadata": {},
     "output_type": "execute_result"
    }
   ],
   "source": [
    "img = cv2.imread('photo/images (2).jpg')\n",
    "img = cv2.resize(img,(50,50))\n",
    "cv2.imshow('fge', img)\n",
    "cv2.waitKey(0)"
   ]
  },
  {
   "cell_type": "markdown",
   "id": "d3e3d9c3-72e8-4631-b344-f1028662219e",
   "metadata": {},
   "source": [
    "# Image Flipping \n",
    "1. Vertical Flip\n",
    "2. Horizontal Flip "
   ]
  },
  {
   "cell_type": "code",
   "execution_count": 5,
   "id": "3f32f91b-415a-4fa4-a90b-9082cd4ec30b",
   "metadata": {},
   "outputs": [
    {
     "data": {
      "text/plain": [
       "-1"
      ]
     },
     "execution_count": 5,
     "metadata": {},
     "output_type": "execute_result"
    }
   ],
   "source": [
    "img = cv2.imread('photo/images (1).jpg')\n",
    "img_flip = cv2.flip(img,1)\n",
    "cv2.imshow('lights',img_flip)\n",
    "cv2.waitKey(0)"
   ]
  },
  {
   "cell_type": "code",
   "execution_count": null,
   "id": "3411d301-be8c-4d67-a791-2ba3c872ce13",
   "metadata": {},
   "outputs": [],
   "source": [
    "img = cv2.imread('photo/images (1).jpg')\n",
    "img_flip = cv2.flip(img,1)\n",
    "img_crop = img[50:200,80:200]\n",
    "cv2.imshow('lights',img_crop)\n",
    "cv2.waitKey(0)"
   ]
  },
  {
   "cell_type": "code",
   "execution_count": 7,
   "id": "20a25f41-3218-4a19-8e21-e99238c93592",
   "metadata": {},
   "outputs": [
    {
     "data": {
      "text/plain": [
       "-1"
      ]
     },
     "execution_count": 7,
     "metadata": {},
     "output_type": "execute_result"
    }
   ],
   "source": [
    "#SAVE\n",
    "img = cv2.imread('photo/images (1).jpg')\n",
    "img_crop = img[50:200,80:200]\n",
    "cv2.imwrite('lights.jpg',img_crop)\n",
    "cv2.imshow('lights',img_crop)\n",
    "cv2.waitKey(0)"
   ]
  },
  {
   "cell_type": "markdown",
   "id": "bd47a94f-3bbd-44c4-bcfd-063e96125fc2",
   "metadata": {},
   "source": [
    "# Drawing Shape and put Text"
   ]
  },
  {
   "cell_type": "markdown",
   "id": "33d636bd-5c35-4c01-973f-ca08b04bfb82",
   "metadata": {},
   "source": [
    "1. rectangle \n",
    "2. circle \n",
    "3. Line \n",
    "4. Text"
   ]
  },
  {
   "cell_type": "code",
   "execution_count": 11,
   "id": "d3058a6d-fa43-4774-bdd7-cc5574fc2737",
   "metadata": {},
   "outputs": [
    {
     "data": {
      "text/plain": [
       "-1"
      ]
     },
     "execution_count": 11,
     "metadata": {},
     "output_type": "execute_result"
    }
   ],
   "source": [
    "# 0 - black \n",
    "# Image create\n",
    "img = np.zeros((512,512,3))\n",
    "cv2.imshow('win',img)\n",
    "cv2.waitKey(0)"
   ]
  },
  {
   "cell_type": "code",
   "execution_count": 12,
   "id": "246b9320-3194-45b3-b4f3-58e15babf12b",
   "metadata": {},
   "outputs": [
    {
     "data": {
      "text/plain": [
       "-1"
      ]
     },
     "execution_count": 12,
     "metadata": {},
     "output_type": "execute_result"
    }
   ],
   "source": [
    "img = np.zeros((512,512,3))\n",
    "cv2.imshow('win',img)\n",
    "cv2.waitKey(0)"
   ]
  },
  {
   "cell_type": "code",
   "execution_count": 16,
   "id": "72fe7ca4-1472-4caa-81fb-75a46010d61e",
   "metadata": {},
   "outputs": [
    {
     "data": {
      "text/plain": [
       "-1"
      ]
     },
     "execution_count": 16,
     "metadata": {},
     "output_type": "execute_result"
    }
   ],
   "source": [
    "# Rectangle\n",
    "img = np.zeros((512,512,3))\n",
    "cv2.rectangle(img,pt1 = (100,100),pt2 = (300,300),color = (0,0,255), thickness = 4)\n",
    "\n",
    "cv2.imshow('win',img)\n",
    "cv2.waitKey(0)"
   ]
  },
  {
   "cell_type": "code",
   "execution_count": 25,
   "id": "a8fc6e26-214f-4634-a48d-95254a92dc55",
   "metadata": {},
   "outputs": [
    {
     "data": {
      "text/plain": [
       "-1"
      ]
     },
     "execution_count": 25,
     "metadata": {},
     "output_type": "execute_result"
    }
   ],
   "source": [
    "# Circle\n",
    "img = np.zeros((512,512,3))\n",
    "cv2.circle(img, center = (200,200),radius = 150,color = (255,0,0), thickness = -1)\n",
    "cv2.line(img, pt1 = (0,0), pt2 = (512,512), color = (255,0,0), thickness = 2)\n",
    "cv2.imshow('win',img)\n",
    "cv2.waitKey(0)"
   ]
  },
  {
   "cell_type": "code",
   "execution_count": 37,
   "id": "bf32bb87-5b7c-4ce6-b76f-f66a04655b3e",
   "metadata": {},
   "outputs": [
    {
     "data": {
      "text/plain": [
       "-1"
      ]
     },
     "execution_count": 37,
     "metadata": {},
     "output_type": "execute_result"
    }
   ],
   "source": [
    "# Putting text on image\n",
    "img = np.zeros((512,512,3))\n",
    "cv2.putText(img, color = (255,0,0), thickness = 2, fontScale = 2,\n",
    "            fontFace = cv2.FONT_HERSHEY_COMPLEX, text = 'OPEN CV',\n",
    "           lineType = cv2.LINE_AA, org = (30,300))\n",
    "cv2.imshow('win',img)\n",
    "cv2.waitKey(0)"
   ]
  },
  {
   "cell_type": "code",
   "execution_count": 48,
   "id": "4a3afbed-b807-4bed-a1ac-8439bc366bdd",
   "metadata": {
    "scrolled": true,
    "tags": []
   },
   "outputs": [],
   "source": [
    "# Working with Opencv events\n",
    "flag = True\n",
    "ix = -1\n",
    "iy = -1\n",
    "def myfun(event,x,y,flags,params):\n",
    "    global flag, ix, iy\n",
    "    if event == 1: \n",
    "        flag = True\n",
    "        ix = x\n",
    "        iy = y\n",
    "    elif event ==0:\n",
    "        flag==True\n",
    "    elif event ==4:\n",
    "        flag==False\n",
    "        cv2.rectangle(img,pt1 = (ix,iy), pt2 = (x,y),color = (0,0,255), thickness = 4)\n",
    "    \n",
    "cv2.namedWindow(winname = 'Window')\n",
    "cv2.setMouseCallback('Window',myfun)\n",
    "img = np.zeros((512,512,3))\n",
    "while True: \n",
    "    cv2.imshow('Window', img)\n",
    "    if cv2.waitKey(1) & 0xFF == ord('b'):\n",
    "        break\n",
    "\n",
    "cv2.destroyAllWindows()"
   ]
  }
 ],
 "metadata": {
  "kernelspec": {
   "display_name": "Python 3 (ipykernel)",
   "language": "python",
   "name": "python3"
  },
  "language_info": {
   "codemirror_mode": {
    "name": "ipython",
    "version": 3
   },
   "file_extension": ".py",
   "mimetype": "text/x-python",
   "name": "python",
   "nbconvert_exporter": "python",
   "pygments_lexer": "ipython3",
   "version": "3.9.12"
  }
 },
 "nbformat": 4,
 "nbformat_minor": 5
}
